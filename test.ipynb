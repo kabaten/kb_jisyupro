{
 "cells": [
  {
   "cell_type": "code",
   "execution_count": 1,
   "id": "f9fe88d7",
   "metadata": {},
   "outputs": [],
   "source": [
    "import torch\n",
    "import torch.nn as nn\n",
    "import torch.optim as optim\n",
    "import torch.autograd as autograd\n",
    "import torch.nn.functional as F\n",
    "from torch.autograd import Variable\n",
    "from torch.utils.data import Dataset, DataLoader\n",
    "\n",
    "import numpy as np\n",
    "from functools import partial\n",
    "import pandas as pd\n",
    "import matplotlib.pyplot as plt\n",
    "import sys, os\n",
    "sys.path.append('..')\n",
    "import cv2\n",
    "\n",
    "import seaborn as sns"
   ]
  },
  {
   "cell_type": "markdown",
   "id": "a8c9a0a7",
   "metadata": {},
   "source": [
    "## Discriminator"
   ]
  },
  {
   "cell_type": "code",
   "execution_count": 147,
   "id": "5c897a3d",
   "metadata": {
    "code_folding": [
     0
    ]
   },
   "outputs": [],
   "source": [
    "class Conv2Central(nn.Module):\n",
    "    def __init__(self):\n",
    "        super().__init__()\n",
    "        self.kernel  = Variable(torch.tensor([[[[1., 0.5],[0.5, 0.25]]]]))\n",
    "    \n",
    "    def forward(self, img):\n",
    "        N, H, W = img.size()\n",
    "        img0 = img.unsqueeze(1)\n",
    "        \n",
    "        img1 = torch.cat((torch.cat((img0, torch.zeros(N, 1, 1, W)), dim=2), torch.zeros(N, 1, H+1, 1), ), dim=3)\n",
    "        img2 = F.conv2d(img1, self.kernel, stride=(1, 1))\n",
    "        img3 = torch.flip(img2, dims=[0])\n",
    "        \n",
    "        img4 = torch.cat((torch.cat((img3, torch.zeros(N, 1, 1, W)), dim=2), torch.zeros(N, 1, H+1, 1), ), dim=3)\n",
    "        img5 = F.conv2d(img4, self.kernel, stride=(1, 1))\n",
    "        img6 = torch.flip(img5, dims=[1])\n",
    "        \n",
    "        img7 = torch.cat((torch.cat((img6, torch.zeros(N, 1, 1, W)), dim=2), torch.zeros(N, 1, H+1, 1), ), dim=3)\n",
    "        img8 = F.conv2d(img7, self.kernel, stride=(1, 1))\n",
    "        img9 = torch.flip(img8, dims=[0])\n",
    "        \n",
    "        img10 = torch.cat((torch.cat((img9, torch.zeros(N, 1, 1, W)), dim=2), torch.zeros(N, 1, H+1, 1), ), dim=3)\n",
    "        img11 = F.conv2d(img10, self.kernel, stride=(1, 1))\n",
    "        img12 = torch.flip(img11, dims=[1])\n",
    "        \n",
    "        img13 = img12.squeeze(1)\n",
    "        return img13"
   ]
  },
  {
   "cell_type": "code",
   "execution_count": 2,
   "id": "9a6245e4",
   "metadata": {
    "code_folding": [
     0
    ]
   },
   "outputs": [],
   "source": [
    "class RoundNoGradient(torch.autograd.Function):\n",
    "    @staticmethod\n",
    "    def forward(ctx, x):\n",
    "        return x.round()\n",
    "    @staticmethod\n",
    "    def backward(ctx, g):\n",
    "        return g"
   ]
  },
  {
   "cell_type": "code",
   "execution_count": 3,
   "id": "5e11259e",
   "metadata": {
    "code_folding": [
     0
    ]
   },
   "outputs": [],
   "source": [
    "class Num2Point(nn.Module):\n",
    "    def __init__(self, n):\n",
    "        super().__init__()\n",
    "        self.fc1 = nn.Linear(1, n*2)\n",
    "        self.fc2 = nn.Linear(n*2, n)\n",
    "        self.fc3 = nn.Linear(n, n)\n",
    "        self.sigmoid = nn.Sigmoid()\n",
    "    \n",
    "    def forward(self, x):\n",
    "        x = x.view(-1, 1) # Linear層に入力できるようにサイズを(batch_size, C)にする\n",
    "        x = self.sigmoid(self.fc1(x)) # write me! # fc1 + sigmoid\n",
    "        x = self.sigmoid(self.fc2(x)) # write me! # fc2 + sigmoid\n",
    "        y = self.fc3(x) # write me! # fc3\n",
    "        return y"
   ]
  },
  {
   "cell_type": "code",
   "execution_count": 208,
   "id": "9455bb81",
   "metadata": {
    "code_folding": [
     32
    ]
   },
   "outputs": [],
   "source": [
    "class PlotLine(nn.Module):\n",
    "    def __init__(self, img_size):\n",
    "        super().__init__()\n",
    "        self.img_size = img_size\n",
    "        self.conv2central = Conv2Central()\n",
    "        self.num2point = Num2Point(img_size)\n",
    "        self.num2point.load_state_dict(torch.load('params.pth', map_location=torch.device('cpu') ))\n",
    "        # freeze all layers\n",
    "        for param in self.num2point.parameters():\n",
    "            param.requires_grad = False\n",
    "        \n",
    "\n",
    "    def forward(self, points):\n",
    "        N = points.size()[0] # batch_size\n",
    "        \n",
    "        points0 = torch.cat((torch.zeros([N,1,2]),\n",
    "                            points.repeat([1,1,2]).reshape([N,-1, 2]),\n",
    "                            torch.zeros([N,1,2])), dim=1).reshape([N, -1, 2, 2])[:, 1:-1]\n",
    "        #print(points0)\n",
    "        t = torch.tensor(range(0, self.img_size+1))/self.img_size\n",
    "        ts = torch.stack((1-t, t)).to(torch.float)\n",
    "        line = torch.matmul(ts.mT, points0)\n",
    "        #print(line)\n",
    "        #line = torch.round(line)\n",
    "        line0 = RoundNoGradient.apply(line)\n",
    "        #line0 = line\n",
    "        #print(line0)\n",
    "        line1 = line0[:, :, 0:-1].reshape(N, -1, 2)\n",
    "        #print(line1)\n",
    "        shape = line1.size()\n",
    "        line2 = line1.flatten()\n",
    "#         E = Variable(torch.eye(self.img_size), requires_grad=True) # ここからline４までDNNで作るしかないか？\n",
    "#         #line = F.embedding(line.to(torch.long), E)\n",
    "#         line3 = ToLongNoGradient.apply(line2)\n",
    "#         print(line3)\n",
    "#         #line3 = line2\n",
    "#         line4 = F.embedding(line3, E)\n",
    "        line4 = F.softmax(self.num2point(line2), dim=1)\n",
    "        #print(line4)\n",
    "        line5 = line4.reshape(*shape, -1)\n",
    "        x = line5[:, :, 0, :].unsqueeze(2)\n",
    "        y = line5[:, :, 1, :].unsqueeze(2)\n",
    "        p_map = torch.matmul(x.mT, y).sum(dim=1)\n",
    "        #p_map0 = self.conv2central(p_map)\n",
    "        p_map0 = torch.tanh(p_map*10)\n",
    "        return p_map0"
   ]
  },
  {
   "cell_type": "code",
   "execution_count": 209,
   "id": "61aca3c3",
   "metadata": {},
   "outputs": [
    {
     "name": "stdout",
     "output_type": "stream",
     "text": [
      "tensor([[39., 45.],\n",
      "        [37., 45.],\n",
      "        [ 6., 25.],\n",
      "        [44., 19.],\n",
      "        [31., 41.]])\n",
      "tensor(1., grad_fn=<MaxBackward1>)\n"
     ]
    },
    {
     "data": {
      "image/png": "[encoded data removed]",
      "text/plain": [
       "<Figure size 640x480 with 1 Axes>"
      ]
     },
     "metadata": {},
     "output_type": "display_data"
    }
   ],
   "source": [
    "points = torch.randint(0, 48, [5, 2]).to(torch.float)\n",
    "print(points)\n",
    "\n",
    "plot_line2 = PlotLine(48)\n",
    "inputs = Variable(points.unsqueeze(0), requires_grad=True)\n",
    "canvas = plot_line2(inputs)\n",
    "print(canvas.max())\n",
    "plt.imshow(canvas.detach().numpy()[0], cmap=\"gray\")\n",
    "plt.show()"
   ]
  },
  {
   "cell_type": "code",
   "execution_count": 210,
   "id": "ca8ea178",
   "metadata": {},
   "outputs": [
    {
     "data": {
      "text/plain": [
       "<AxesSubplot:>"
      ]
     },
     "execution_count": 210,
     "metadata": {},
     "output_type": "execute_result"
    },
    {
     "data": {
      "image/png": "[encoded data removed]",
      "text/plain": [
       "<Figure size 640x480 with 2 Axes>"
      ]
     },
     "metadata": {},
     "output_type": "display_data"
    }
   ],
   "source": [
    "sns.heatmap(canvas.detach().numpy()[0])"
   ]
  },
  {
   "cell_type": "code",
   "execution_count": 175,
   "id": "d50e8a05",
   "metadata": {},
   "outputs": [],
   "source": [
    "def process_img(img):\n",
    "    img_np = np.array(img)\n",
    "    img_np = ~img_np\n",
    "    _, img_th = cv2.threshold(img_np, 0, 255, cv2.THRESH_OTSU)\n",
    "    kernel = np.ones((3,3),np.float32)/9.\n",
    "    img_blr = cv2.filter2D(img_th.astype(np.float32),-1,kernel)\n",
    "    img_blr = img_blr.squeeze()\n",
    "    img_blr = img_blr/img_blr.max()\n",
    "    img_blr = -img_blr\n",
    "    img_blr[img_blr>=0] = 100.\n",
    "    return img_blr.squeeze()"
   ]
  },
  {
   "cell_type": "code",
   "execution_count": 176,
   "id": "cb8512df",
   "metadata": {},
   "outputs": [],
   "source": [
    "class Discriminator(nn.Module):\n",
    "    def __init__(self, img):\n",
    "        super().__init__()\n",
    "        self.img_size = len(img)\n",
    "        self.img = torch.from_numpy(process_img(img)).clone()\n",
    "        \n",
    "        self.plot_line = PlotLine(self.img_size)\n",
    "        \n",
    "    def forward(self, points):\n",
    "        x = self.plot_line(points)\n",
    "        #print(x)\n",
    "        loss = torch.sum(x*self.img)\n",
    "        return loss"
   ]
  },
  {
   "cell_type": "code",
   "execution_count": 177,
   "id": "3a383fa6",
   "metadata": {},
   "outputs": [
    {
     "data": {
      "text/plain": [
       "tensor(359567.4375, grad_fn=<SumBackward0>)"
      ]
     },
     "execution_count": 177,
     "metadata": {},
     "output_type": "execute_result"
    }
   ],
   "source": [
    "disc = Discriminator(img_array)\n",
    "points = torch.randint(0, 48, [5, 2]).to(torch.float)\n",
    "inputs = Variable(points.unsqueeze(0), requires_grad=True)\n",
    "loss = disc(inputs)\n",
    "loss"
   ]
  },
  {
   "cell_type": "markdown",
   "id": "daec665d",
   "metadata": {},
   "source": [
    "## Generator"
   ]
  },
  {
   "cell_type": "code",
   "execution_count": 178,
   "id": "9f118f1e",
   "metadata": {},
   "outputs": [],
   "source": [
    "class Generator(nn.Module):\n",
    "    def __init__(self, img_size, n_point):\n",
    "        super().__init__()\n",
    "        self.n_point = n_point\n",
    "        self.img_size = img_size\n",
    "        \n",
    "        self.flatten = nn.Flatten()\n",
    "        \n",
    "        input_size = img_size**2\n",
    "        hidden_size1 = input_size//4\n",
    "        hidden_size2 = 2*img_size\n",
    "        output_size = 2*n_point\n",
    "        \n",
    "        self.fc1 = nn.Linear(input_size, hidden_size1, bias=False)\n",
    "        self.fc2 = nn.Linear(hidden_size1, hidden_size2, bias=False)\n",
    "        self.fc3 = nn.Linear(hidden_size2, output_size, bias=False)\n",
    "        self.relu = nn.ReLU()\n",
    "        \n",
    "    def forward(self, img):\n",
    "        x = self.flatten(img)\n",
    "        #x = x.view(-1, 1) # Linear層に入力できるようにサイズを(batch_size, C)にする. --> x = nn.Flatten(img)\n",
    "        x = self.relu(self.fc1(x)) # write me! # fc1 + sigmoid\n",
    "        x = self.relu(self.fc2(x)) # write me! # fc2 + sigmoid\n",
    "        y = self.fc3(x) # write me! # fc3\n",
    "        y_num = self.img_size*torch.sigmoid(y)\n",
    "        out = y_num.reshape(-1, 2, self.n_point)\n",
    "        return out"
   ]
  },
  {
   "cell_type": "code",
   "execution_count": 179,
   "id": "d33a9311",
   "metadata": {},
   "outputs": [
    {
     "data": {
      "text/plain": [
       "torch.Size([3, 2304])"
      ]
     },
     "execution_count": 179,
     "metadata": {},
     "output_type": "execute_result"
    }
   ],
   "source": [
    "i = torch.ones(3,48,48)\n",
    "flatten = nn.Flatten()\n",
    "# nn.Flatten(i)\n",
    "flatten(i).size()"
   ]
  },
  {
   "cell_type": "code",
   "execution_count": 180,
   "id": "15abbb26",
   "metadata": {},
   "outputs": [
    {
     "data": {
      "text/plain": [
       "tensor([[[24.4258, 23.8002, 23.8875, 23.3609, 22.8809, 23.0253, 23.6331,\n",
       "          25.4722, 21.4698, 22.8286, 23.6817, 24.7733, 23.8028, 24.2492,\n",
       "          24.4155, 22.8000, 24.9667, 22.2649, 23.7762, 25.3657],\n",
       "         [23.3125, 24.2018, 24.6020, 24.5966, 22.6808, 26.8231, 22.9731,\n",
       "          21.9740, 25.7727, 24.5345, 22.4541, 21.2163, 24.6241, 24.2046,\n",
       "          24.0973, 24.2001, 24.3328, 25.0322, 25.4260, 24.3306]]],\n",
       "       grad_fn=<ReshapeAliasBackward0>)"
      ]
     },
     "execution_count": 180,
     "metadata": {},
     "output_type": "execute_result"
    }
   ],
   "source": [
    "i = torch.ones(1,48,48)\n",
    "\n",
    "gen = Generator(n_point=20, img_size=48)\n",
    "gen(i)"
   ]
  },
  {
   "cell_type": "markdown",
   "id": "b7ec72b8",
   "metadata": {},
   "source": [
    "## ひらがなデータ"
   ]
  },
  {
   "cell_type": "code",
   "execution_count": 3,
   "id": "c7b198ee",
   "metadata": {
    "scrolled": true
   },
   "outputs": [
    {
     "name": "stdout",
     "output_type": "stream",
     "text": [
      "[[239 239 240 ... 235 235 236]\n",
      " [239 239 240 ... 235 235 236]\n",
      " [238 238 240 ... 235 235 236]\n",
      " ...\n",
      " [241 241 242 ... 241 241 242]\n",
      " [241 241 242 ... 241 241 242]\n",
      " [241 241 242 ... 241 241 242]]\n"
     ]
    },
    {
     "data": {
      "image/png": "[encoded data removed]",
      "text/plain": [
       "<Figure size 640x480 with 1 Axes>"
      ]
     },
     "metadata": {},
     "output_type": "display_data"
    }
   ],
   "source": [
    "DATADIR = \"../data/hiragana73\"\n",
    "CATEGORIES = [\"U3042\", \"U3044\", \"U3046\", \"U3048\", \"U304A\"]\n",
    "\n",
    "category = CATEGORIES[1]\n",
    "path = os.path.join(DATADIR, category)\n",
    "\n",
    "image_name = os.listdir(path)[0]\n",
    "img_array = cv2.imread(os.path.join(path, image_name), cv2.IMREAD_GRAYSCALE)\n",
    "print(img_array)\n",
    "plt.imshow(img_array, cmap=\"gray\")\n",
    "plt.show()"
   ]
  },
  {
   "cell_type": "code",
   "execution_count": 4,
   "id": "86ce4065",
   "metadata": {},
   "outputs": [
    {
     "data": {
      "text/plain": [
       "<AxesSubplot:>"
      ]
     },
     "execution_count": 4,
     "metadata": {},
     "output_type": "execute_result"
    },
    {
     "data": {
      "image/png": "[encoded data removed]",
      "text/plain": [
       "<Figure size 640x480 with 2 Axes>"
      ]
     },
     "metadata": {},
     "output_type": "display_data"
    }
   ],
   "source": [
    "def process_img2(img):\n",
    "    img_np = np.array(img)\n",
    "    img_np = ~img_np\n",
    "    _, img_th = cv2.threshold(img_np, 0, 1, cv2.THRESH_OTSU)\n",
    "    kernel = np.ones((3,3),np.float32)/9.\n",
    "    img_blr = cv2.filter2D(img_th.astype(np.float32),-1,kernel)\n",
    "    img_blr = img_blr.squeeze()\n",
    "#     img_blr = img_blr/img_blr.max()\n",
    "#     img_blr = -img_blr\n",
    "#     img_blr[img_blr>=0] = 100.\n",
    "#     return img_blr.squeeze()\n",
    "    return img_blr\n",
    "\n",
    "\n",
    "# img_np = np.array(img_array)\n",
    "# img_inv = ~img_np\n",
    "img_p = process_img2(img_array)\n",
    "sns.heatmap(img_p)"
   ]
  },
  {
   "cell_type": "code",
   "execution_count": 158,
   "id": "317ac4ce",
   "metadata": {},
   "outputs": [],
   "source": [
    "def zscore(x, axis = None):\n",
    "    x_mean = x.mean(axis=axis, keepdims=True)\n",
    "    x_std  = np.std(x, axis=axis, keepdims=True)\n",
    "    z_score = (x-x_mean)/x_std\n",
    "    return z_score\n",
    "\n",
    "def make_input(img):\n",
    "    img = np.array(img)\n",
    "    img = ~img\n",
    "    img = zscore(img)\n",
    "    return torch.from_numpy(img).to(torch.float)"
   ]
  },
  {
   "cell_type": "code",
   "execution_count": 159,
   "id": "8d360ff5",
   "metadata": {},
   "outputs": [],
   "source": [
    "test = make_input(img_array)"
   ]
  },
  {
   "cell_type": "code",
   "execution_count": 160,
   "id": "4c633f5a",
   "metadata": {},
   "outputs": [
    {
     "data": {
      "image/png": "[encoded data removed]",
      "text/plain": [
       "<Figure size 640x480 with 1 Axes>"
      ]
     },
     "metadata": {},
     "output_type": "display_data"
    }
   ],
   "source": [
    "plt.imshow(test, cmap=\"gray\")\n",
    "plt.show()"
   ]
  },
  {
   "cell_type": "code",
   "execution_count": 161,
   "id": "8f8ef6d1",
   "metadata": {},
   "outputs": [],
   "source": [
    "# class Sample(nn.Module):\n",
    "#     def __init__(self, img, n_point):\n",
    "#         img_size = len(img)\n",
    "#         self.gen = Generator(img_size, n_point)\n",
    "#         self.disc = Discriminator(img)\n",
    "#         self.log = []\n",
    "    \n",
    "#     def "
   ]
  },
  {
   "cell_type": "code",
   "execution_count": 162,
   "id": "e08b5a02",
   "metadata": {},
   "outputs": [
    {
     "name": "stdout",
     "output_type": "stream",
     "text": [
      "using: cpu\n"
     ]
    }
   ],
   "source": [
    "device = torch.device('cuda' if torch.cuda.is_available() else 'cpu')\n",
    "print(f'using: {device}')"
   ]
  },
  {
   "cell_type": "code",
   "execution_count": 163,
   "id": "49dee1d6",
   "metadata": {},
   "outputs": [],
   "source": [
    "img = img_array\n",
    "n_point = 10\n",
    "img_size = len(img)"
   ]
  },
  {
   "cell_type": "code",
   "execution_count": 164,
   "id": "1cadc85e",
   "metadata": {},
   "outputs": [],
   "source": [
    "gen = Generator(img_size, n_point).to(device)\n",
    "disc = Discriminator(img).to(device)"
   ]
  },
  {
   "cell_type": "code",
   "execution_count": 165,
   "id": "546daed9",
   "metadata": {},
   "outputs": [],
   "source": [
    "optimizer = optim.Adam(gen.parameters(), lr=0.0002, betas=[0.5, 0.999])"
   ]
  },
  {
   "cell_type": "code",
   "execution_count": 166,
   "id": "284e105b",
   "metadata": {},
   "outputs": [
    {
     "name": "stdout",
     "output_type": "stream",
     "text": [
      "iter: 0, loss: 1107110.75\n",
      "iter: 1000, loss: -10673.501953125\n",
      "iter: 2000, loss: -10655.015625\n",
      "iter: 3000, loss: -10675.71875\n",
      "iter: 4000, loss: -10669.8046875\n",
      "iter: 5000, loss: -10672.75390625\n",
      "iter: 6000, loss: -10690.201171875\n",
      "iter: 7000, loss: -10692.9736328125\n",
      "iter: 8000, loss: -10681.4013671875\n",
      "iter: 9000, loss: -10683.7568359375\n",
      "iter: 10000, loss: -10670.3818359375\n",
      "iter: 11000, loss: -10647.0966796875\n",
      "iter: 12000, loss: -10691.5205078125\n",
      "iter: 13000, loss: -10692.1435546875\n",
      "iter: 14000, loss: -10683.2041015625\n",
      "iter: 15000, loss: -10624.37890625\n",
      "iter: 16000, loss: -10662.380859375\n",
      "iter: 17000, loss: -10672.1845703125\n",
      "iter: 18000, loss: -10687.84765625\n",
      "iter: 19000, loss: -10664.076171875\n"
     ]
    }
   ],
   "source": [
    "points_log = []\n",
    "losses = []\n",
    "\n",
    "inputs = make_input(img).unsqueeze(0)\n",
    "inputs = inputs.to(device)\n",
    "\n",
    "iteration = 20000\n",
    "\n",
    "gen = gen\n",
    "disc = disc\n",
    "gen.train()\n",
    "\n",
    "for i in range(0, iteration):\n",
    "    points = gen(inputs)\n",
    "    points_log.append(points.cpu())\n",
    "    \n",
    "    loss = disc(points)\n",
    "    losses.append(loss.cpu())\n",
    "    \n",
    "    optimizer.zero_grad()\n",
    "    \n",
    "    loss.backward()\n",
    "    \n",
    "    optimizer.step()\n",
    "    \n",
    "    if i%1000 == 0:\n",
    "        print(f'iter: {i}, loss: {loss}')"
   ]
  },
  {
   "cell_type": "code",
   "execution_count": 174,
   "id": "7009037f",
   "metadata": {},
   "outputs": [
    {
     "name": "stdout",
     "output_type": "stream",
     "text": [
      "(2, 10)\n",
      "[[29.742931 13.478471 29.724895 13.445269 29.648533 13.469175 29.62622\n",
      "  13.455726 29.620548 13.417423]\n",
      " [29.62179  13.478808 29.584759 13.402293 29.563454 13.468567 29.626282\n",
      "  13.547817 29.695774 13.480463]]\n"
     ]
    }
   ],
   "source": [
    "xy = points_log[-1].squeeze_().detach().numpy()\n",
    "print(xy.shape)\n",
    "x = xy[0]\n",
    "y = xy[1]\n",
    "print(xy)"
   ]
  },
  {
   "cell_type": "code",
   "execution_count": 170,
   "id": "cc49f77d",
   "metadata": {},
   "outputs": [
    {
     "data": {
      "image/png": "[encoded data removed]",
      "text/plain": [
       "<Figure size 640x480 with 1 Axes>"
      ]
     },
     "metadata": {},
     "output_type": "display_data"
    }
   ],
   "source": [
    "plt.plot(x, y)\n",
    "plt.show()"
   ]
  },
  {
   "cell_type": "code",
   "execution_count": 173,
   "id": "8e50d6f6",
   "metadata": {
    "scrolled": true
   },
   "outputs": [
    {
     "data": {
      "image/png": "[encoded data removed]",
      "text/plain": [
       "<Figure size 640x480 with 1 Axes>"
      ]
     },
     "metadata": {},
     "output_type": "display_data"
    }
   ],
   "source": [
    "plt.imshow(test, cmap=\"gray\")\n",
    "plt.scatter(y, x)\n",
    "plt.show()"
   ]
  },
  {
   "cell_type": "code",
   "execution_count": 187,
   "id": "61f8dccf",
   "metadata": {},
   "outputs": [
    {
     "data": {
      "text/plain": [
       "tensor(2.5000)"
      ]
     },
     "execution_count": 187,
     "metadata": {},
     "output_type": "execute_result"
    }
   ],
   "source": [
    "a = torch.tensor([[1.,2.],[3.,4.]])\n",
    "a.mean(dtype=torch.float)"
   ]
  },
  {
   "cell_type": "code",
   "execution_count": 189,
   "id": "7e7a1e8e",
   "metadata": {},
   "outputs": [
    {
     "data": {
      "text/plain": [
       "tensor([[0.2500, 0.5000],\n",
       "        [0.7500, 1.0000]])"
      ]
     },
     "execution_count": 189,
     "metadata": {},
     "output_type": "execute_result"
    }
   ],
   "source": [
    "a/a.max()"
   ]
  },
  {
   "cell_type": "code",
   "execution_count": 193,
   "id": "4bb1e1da",
   "metadata": {},
   "outputs": [
    {
     "data": {
      "text/plain": [
       "tensor([[0., 1.],\n",
       "        [1., 1.]])"
      ]
     },
     "execution_count": 193,
     "metadata": {},
     "output_type": "execute_result"
    }
   ],
   "source": [
    "a = torch.tensor([[0.,10.],[100.,1000.]])\n",
    "torch.tanh(a)"
   ]
  },
  {
   "cell_type": "code",
   "execution_count": null,
   "id": "6c8e58f8",
   "metadata": {},
   "outputs": [],
   "source": []
  }
 ],
 "metadata": {
  "kernelspec": {
   "display_name": "Python 3 (ipykernel)",
   "language": "python",
   "name": "python3"
  },
  "language_info": {
   "codemirror_mode": {
    "name": "ipython",
    "version": 3
   },
   "file_extension": ".py",
   "mimetype": "text/x-python",
   "name": "python",
   "nbconvert_exporter": "python",
   "pygments_lexer": "ipython3",
   "version": "3.8.15"
  }
 },
 "nbformat": 4,
 "nbformat_minor": 5
}
